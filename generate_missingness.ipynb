{
 "cells": [
  {
   "cell_type": "code",
   "execution_count": 8,
   "id": "85e08861-1ea3-4ff9-b475-f2c2d1c0f5a0",
   "metadata": {},
   "outputs": [
    {
     "name": "stdout",
     "output_type": "stream",
     "text": [
      "Output will be saved to: '/Users/aranpurdy/Desktop/CFPS/ArtificialMissingness_numpy'\n",
      "Found 40 numeric columns to target for amputation.\n",
      "\n",
      "Introducing MCAR pattern...\n",
      "  Completed in 0.01 seconds.\n",
      "MCAR data saved successfully.\n",
      "\n",
      "Introducing MAR pattern...\n",
      "Using 'TM2A2_1' as the conditional column for MAR.\n",
      "  Completed in 0.02 seconds.\n",
      "MAR data saved successfully.\n",
      "\n",
      "Introducing MNAR pattern...\n",
      "  Completed in 0.03 seconds.\n",
      "MNAR data saved successfully.\n",
      "\n",
      "Script finished.\n"
     ]
    }
   ],
   "source": [
    "# ============================================================================\n",
    "# CONFIGURATION\n",
    "# This cell contains all the settings a user needs to change.\n",
    "# ============================================================================\n",
    "\n",
    "# --- PATHS ---\n",
    "# TODO: Update this path to point to your complete, \"ground truth\" data file.\n",
    "INPUT_FILE_PATH = \"data/Ground_Truth_Imputed.xlsx\"\n",
    "\n",
    "# The directory where the new datasets with missing values will be saved.\n",
    "OUTPUT_DIR = \"output/ArtificialMissingness\"\n",
    "\n",
    "# --- PARAMETERS ---\n",
    "# The overall proportion of missing values to introduce into the data.\n",
    "MISSING_RATE = 0.15\n",
    "\n",
    "# For the MAR pattern, which column should be used to determine missingness in others?\n",
    "# If set to None, the script will automatically use the first numeric column.\n",
    "MAR_CONDITIONAL_COLUMN = None  # or e.g., \"Metabolite_X\""
   ]
  },
  {
   "cell_type": "code",
   "execution_count": null,
   "id": "8e603bbb-697b-4703-ba01-2acdfc898d71",
   "metadata": {},
   "outputs": [],
   "source": []
  }
 ],
 "metadata": {
  "kernelspec": {
   "display_name": "Python 3 (ipykernel)",
   "language": "python",
   "name": "python3"
  },
  "language_info": {
   "codemirror_mode": {
    "name": "ipython",
    "version": 3
   },
   "file_extension": ".py",
   "mimetype": "text/x-python",
   "name": "python",
   "nbconvert_exporter": "python",
   "pygments_lexer": "ipython3",
   "version": "3.9.21"
  }
 },
 "nbformat": 4,
 "nbformat_minor": 5
}
